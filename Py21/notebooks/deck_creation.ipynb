{
 "cells": [
  {
   "cell_type": "code",
   "execution_count": 36,
   "metadata": {},
   "outputs": [
    {
     "name": "stdout",
     "output_type": "stream",
     "text": [
      "[{'id': 0, 's': 'H', 'r': '2', 'v': 2}, {'id': 1, 's': 'H', 'r': '3', 'v': 3}, {'id': 2, 's': 'H', 'r': '4', 'v': 4}, {'id': 3, 's': 'H', 'r': '5', 'v': 5}, {'id': 4, 's': 'H', 'r': '6', 'v': 6}, {'id': 5, 's': 'H', 'r': '7', 'v': 7}, {'id': 6, 's': 'H', 'r': '8', 'v': 8}, {'id': 7, 's': 'H', 'r': '9', 'v': 9}, {'id': 8, 's': 'H', 'r': '10', 'v': 10}, {'id': 9, 's': 'H', 'r': 'J', 'v': 10}, {'id': 10, 's': 'H', 'r': 'Q', 'v': 10}, {'id': 11, 's': 'H', 'r': 'K', 'v': 10}, {'id': 12, 's': 'H', 'r': 'A', 'v': 11}, {'id': 13, 's': 'D', 'r': '2', 'v': 2}, {'id': 14, 's': 'D', 'r': '3', 'v': 3}, {'id': 15, 's': 'D', 'r': '4', 'v': 4}, {'id': 16, 's': 'D', 'r': '5', 'v': 5}, {'id': 17, 's': 'D', 'r': '6', 'v': 6}, {'id': 18, 's': 'D', 'r': '7', 'v': 7}, {'id': 19, 's': 'D', 'r': '8', 'v': 8}, {'id': 20, 's': 'D', 'r': '9', 'v': 9}, {'id': 21, 's': 'D', 'r': '10', 'v': 10}, {'id': 22, 's': 'D', 'r': 'J', 'v': 10}, {'id': 23, 's': 'D', 'r': 'Q', 'v': 10}, {'id': 24, 's': 'D', 'r': 'K', 'v': 10}, {'id': 25, 's': 'D', 'r': 'A', 'v': 11}, {'id': 26, 's': 'C', 'r': '2', 'v': 2}, {'id': 27, 's': 'C', 'r': '3', 'v': 3}, {'id': 28, 's': 'C', 'r': '4', 'v': 4}, {'id': 29, 's': 'C', 'r': '5', 'v': 5}, {'id': 30, 's': 'C', 'r': '6', 'v': 6}, {'id': 31, 's': 'C', 'r': '7', 'v': 7}, {'id': 32, 's': 'C', 'r': '8', 'v': 8}, {'id': 33, 's': 'C', 'r': '9', 'v': 9}, {'id': 34, 's': 'C', 'r': '10', 'v': 10}, {'id': 35, 's': 'C', 'r': 'J', 'v': 10}, {'id': 36, 's': 'C', 'r': 'Q', 'v': 10}, {'id': 37, 's': 'C', 'r': 'K', 'v': 10}, {'id': 38, 's': 'C', 'r': 'A', 'v': 11}, {'id': 39, 's': 'S', 'r': '2', 'v': 2}, {'id': 40, 's': 'S', 'r': '3', 'v': 3}, {'id': 41, 's': 'S', 'r': '4', 'v': 4}, {'id': 42, 's': 'S', 'r': '5', 'v': 5}, {'id': 43, 's': 'S', 'r': '6', 'v': 6}, {'id': 44, 's': 'S', 'r': '7', 'v': 7}, {'id': 45, 's': 'S', 'r': '8', 'v': 8}, {'id': 46, 's': 'S', 'r': '9', 'v': 9}, {'id': 47, 's': 'S', 'r': '10', 'v': 10}, {'id': 48, 's': 'S', 'r': 'J', 'v': 10}, {'id': 49, 's': 'S', 'r': 'Q', 'v': 10}, {'id': 50, 's': 'S', 'r': 'K', 'v': 10}, {'id': 51, 's': 'S', 'r': 'A', 'v': 11}]\n"
     ]
    }
   ],
   "source": [
    "import random\n",
    "\n",
    "class Deck:\n",
    "    \n",
    "    def __init__(self):\n",
    "        self.suits = ['H', 'D', 'C', 'S']\n",
    "        self.ranks = ['2', '3', '4', '5', '6', '7', '8', '9', '10', 'J', 'Q', 'K', 'A']\n",
    "        self.deck = []\n",
    "        i = 0\n",
    "\n",
    "        for suit in self.suits:\n",
    "            for rank in self.ranks:\n",
    "                self.deck.append({\n",
    "                    'id': i,\n",
    "                    's': suit,\n",
    "                    'r': rank,\n",
    "                    'v': 10 if rank in ['J', 'Q', 'K'] else (11 if rank == 'A' else int(rank))\n",
    "                })\n",
    "                i += 1\n",
    "                \n",
    "    def __str__(self):\n",
    "        return str(self.deck)\n",
    "                                \n",
    "    def shuffle(self):\n",
    "        random.shuffle(self.deck)\n",
    "        \n",
    "deck = Deck()\n",
    "print(deck)"
   ]
  }
 ],
 "metadata": {
  "kernelspec": {
   "display_name": "Py21",
   "language": "python",
   "name": "python3"
  },
  "language_info": {
   "codemirror_mode": {
    "name": "ipython",
    "version": 3
   },
   "file_extension": ".py",
   "mimetype": "text/x-python",
   "name": "python",
   "nbconvert_exporter": "python",
   "pygments_lexer": "ipython3",
   "version": "3.12.8"
  }
 },
 "nbformat": 4,
 "nbformat_minor": 2
}
